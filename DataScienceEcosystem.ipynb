{
 "cells": [
  {
   "cell_type": "markdown",
   "id": "596ca05d",
   "metadata": {},
   "source": [
    "# Data Science Tools and Ecosystem\n",
    "### Author: Lakshmi Holla and Niveditha Pandith\n",
    "Sam Mazzuca"
   ]
  },
  {
   "cell_type": "markdown",
   "id": "18011d02",
   "metadata": {},
   "source": [
    "In this notebook, Data Science Tools and Ecosystmes are summarized\n",
    "## Objectives\n",
    "- **Jupyter Notebook:** Get started with the fundamentals of Jupyter Notebook and practice in this widely used open source application\n",
    "\n",
    "- **Matplotlib:** Learn to make data visualizationsa with this source through Python\n",
    "\n",
    "- **Pandas:** Manipulate data use Pandas extensive libraries right in front of you with no downloads neccesary"
   ]
  },
  {
   "cell_type": "markdown",
   "id": "028098c4",
   "metadata": {},
   "source": [
    "Some of the popular languanges that data Scientists use are:\n",
    "1. Python\n",
    "2. R\n",
    "3. C++\n",
    "4. SQL\n",
    "5. Java"
   ]
  },
  {
   "cell_type": "markdown",
   "id": "70a43c2e",
   "metadata": {},
   "source": [
    "Some of the commonly used libraries used by Data Scientists include:\n",
    "1. Pandas\n",
    "2. NumPy\n",
    "3. Plotly\n",
    "4. Matplotlib\n",
    "5. Seaborn"
   ]
  },
  {
   "cell_type": "markdown",
   "id": "e3b074f8",
   "metadata": {},
   "source": [
    "Data Science Tools \n",
    "1. Apache Spark\n",
    "2. R Studio\n",
    "3. Tensor Flow"
   ]
  },
  {
   "cell_type": "markdown",
   "id": "a01ac502",
   "metadata": {},
   "source": [
    "### Below are a few examples of evaluating arithmetic expressions in Python "
   ]
  },
  {
   "cell_type": "code",
   "execution_count": 3,
   "id": "246a3c0b",
   "metadata": {},
   "outputs": [
    {
     "data": {
      "text/plain": [
       "17"
      ]
     },
     "execution_count": 3,
     "metadata": {},
     "output_type": "execute_result"
    }
   ],
   "source": [
    "# This is a simple arithmetic expression to multiply then add integers\n",
    "(3*4)+5\n"
   ]
  },
  {
   "cell_type": "code",
   "execution_count": 7,
   "id": "f9cf2dff",
   "metadata": {},
   "outputs": [
    {
     "name": "stdout",
     "output_type": "stream",
     "text": [
      "3.3333333333333335\n"
     ]
    }
   ],
   "source": [
    "#This will convert 200 minutes to hours by dividing by 60\n",
    "minutes = 200\n",
    "hours= minutes / 60\n",
    "print(hours)"
   ]
  },
  {
   "cell_type": "code",
   "execution_count": null,
   "id": "69cda6af",
   "metadata": {},
   "outputs": [],
   "source": []
  }
 ],
 "metadata": {
  "kernelspec": {
   "display_name": "Python 3 (ipykernel)",
   "language": "python",
   "name": "python3"
  },
  "language_info": {
   "codemirror_mode": {
    "name": "ipython",
    "version": 3
   },
   "file_extension": ".py",
   "mimetype": "text/x-python",
   "name": "python",
   "nbconvert_exporter": "python",
   "pygments_lexer": "ipython3",
   "version": "3.11.5"
  }
 },
 "nbformat": 4,
 "nbformat_minor": 5
}
